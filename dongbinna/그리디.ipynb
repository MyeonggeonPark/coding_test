{
  "nbformat": 4,
  "nbformat_minor": 0,
  "metadata": {
    "colab": {
      "name": "그리디.ipynb",
      "provenance": []
    },
    "kernelspec": {
      "name": "python3",
      "display_name": "Python 3"
    },
    "language_info": {
      "name": "python"
    }
  },
  "cells": [
    {
      "cell_type": "code",
      "execution_count": 1,
      "metadata": {
        "colab": {
          "base_uri": "https://localhost:8080/"
        },
        "id": "aJCihjikluii",
        "outputId": "3155c559-1a5b-4ec9-ab79-280a321c7f75"
      },
      "outputs": [
        {
          "output_type": "stream",
          "name": "stdout",
          "text": [
            "6\n"
          ]
        }
      ],
      "source": [
        "#거스름돈 문제\n",
        "n =1260\n",
        "count = 0\n",
        "\n",
        "coin_types = [500, 100, 50, 10]\n",
        "\n",
        "for coin in coin_types:\n",
        "  count += n //coin\n",
        "  n %= coin\n",
        "\n",
        "print(count)"
      ]
    },
    {
      "cell_type": "markdown",
      "source": [
        "#큰 수의 법칙"
      ],
      "metadata": {
        "id": "04birHLjslNx"
      }
    },
    {
      "cell_type": "code",
      "source": [
        "#my sol\n",
        "N, M, K = map(int, input().split())\n",
        "\n",
        "num_list = list(map(int, input().split()))#[int(a) for a in input().split()]\n",
        "\n",
        "num_list.sort(reverse=True)\n",
        "\n",
        "answer = 0\n",
        "\n",
        "while M:\n",
        "  for _ in range(K):\n",
        "    answer += num_list[0]\n",
        "    M -= 1\n",
        "    if not M:\n",
        "      break\n",
        "  answer += num_list[1]\n",
        "  M -= 1\n",
        "\n",
        "print(answer)"
      ],
      "metadata": {
        "colab": {
          "base_uri": "https://localhost:8080/"
        },
        "id": "XGCZdHkZoHOm",
        "outputId": "c84df028-0d9f-492d-abd5-b47d14928a54"
      },
      "execution_count": 4,
      "outputs": [
        {
          "name": "stdout",
          "output_type": "stream",
          "text": [
            "5 8 3\n"
          ]
        }
      ]
    },
    {
      "cell_type": "code",
      "source": [
        "# N, M, K를 공백을 기준으로 구분하여 입력 받기\n",
        "n, m, k = map(int, input().split())\n",
        "# N개의 수를 공백을 기준으로 구분하여 입력 받기\n",
        "data = list(map(int, input().split()))\n",
        "\n",
        "data.sort() # 입력 받은 수들 정렬하기\n",
        "first = data[n - 1] # 가장 큰 수\n",
        "second = data[n - 2] # 두 번째로 큰 수\n",
        "\n",
        "# 가장 큰 수가 더해지는 횟수 계산\n",
        "count = int(m / (k + 1)) * k\n",
        "count += m % (k + 1)\n",
        "\n",
        "result = 0\n",
        "result += (count) * first # 가장 큰 수 더하기\n",
        "result += (m - count) * second # 두 번째로 큰 수 더하기\n",
        "\n",
        "print(result) # 최종 답안 출력"
      ],
      "metadata": {
        "colab": {
          "base_uri": "https://localhost:8080/"
        },
        "id": "J90jHbSqoY2_",
        "outputId": "ad4943a1-d572-4cb0-8aa9-e88d54ae85a4"
      },
      "execution_count": 11,
      "outputs": [
        {
          "output_type": "stream",
          "name": "stdout",
          "text": [
            "5 8 3\n",
            "2 4 5 4 6\n",
            "46\n"
          ]
        }
      ]
    },
    {
      "cell_type": "markdown",
      "source": [
        "#숫자 카드 게임"
      ],
      "metadata": {
        "id": "KcZjM6a1ok4D"
      }
    },
    {
      "cell_type": "code",
      "source": [
        "#my sol\n",
        "n, m = map(int, input().split())\n",
        "data = []\n",
        "for _ in range(n):\n",
        "  data.append(list(map(int, input().split())))\n",
        "\n",
        "answer = 0\n",
        "for row in data:\n",
        "  if not answer:\n",
        "    answer = min(row)\n",
        "  else:\n",
        "    if answer < min(row):\n",
        "      answer = min(row)\n",
        "\n",
        "print(answer)"
      ],
      "metadata": {
        "colab": {
          "base_uri": "https://localhost:8080/"
        },
        "id": "dop7qCrbo0WR",
        "outputId": "f6920c01-dabc-4054-add8-3122f27ef6aa"
      },
      "execution_count": 13,
      "outputs": [
        {
          "output_type": "stream",
          "name": "stdout",
          "text": [
            "3 3\n",
            "3 1 2\n",
            "4 1 4\n",
            "2 2 2\n",
            "2\n"
          ]
        }
      ]
    },
    {
      "cell_type": "code",
      "source": [
        "# N, M을 공백을 기준으로 구분하여 입력 받기\n",
        "n, m = map(int, input().split())\n",
        "\n",
        "result = 0\n",
        "# 한 줄씩 입력 받아 확인하기\n",
        "for i in range(n):\n",
        "    data = list(map(int, input().split()))\n",
        "    # 현재 줄에서 '가장 작은 수' 찾기\n",
        "    min_value = min(data)\n",
        "    # '가장 작은 수'들 중에서 가장 큰 수 찾기\n",
        "    result = max(result, min_value)\n",
        "\n",
        "print(result) # 최종 답안 출력"
      ],
      "metadata": {
        "id": "jqiRDvGxwTBk"
      },
      "execution_count": null,
      "outputs": []
    },
    {
      "cell_type": "code",
      "source": [
        "# N, M을 공백을 기준으로 구분하여 입력 받기\n",
        "n, m = map(int, input().split())\n",
        "\n",
        "result = 0\n",
        "# 한 줄씩 입력 받아 확인하기\n",
        "for i in range(n):\n",
        "    data = list(map(int, input().split()))\n",
        "    # 현재 줄에서 '가장 작은 수' 찾기\n",
        "    min_value = 10001\n",
        "    for a in data:\n",
        "        min_value = min(min_value, a)\n",
        "    # '가장 작은 수'들 중에서 가장 큰 수 찾기\n",
        "    result = max(result, min_value)\n",
        "\n",
        "print(result) # 최종 답안 출력"
      ],
      "metadata": {
        "id": "GjugG89qwn4c"
      },
      "execution_count": null,
      "outputs": []
    },
    {
      "cell_type": "markdown",
      "source": [
        "#1이 될 때까지"
      ],
      "metadata": {
        "id": "eGDwqW0CxStI"
      }
    },
    {
      "cell_type": "code",
      "source": [
        "#my sol\n",
        "n, k = map(int, input().split())\n",
        "\n",
        "count = 0\n",
        "\n",
        "while n != 1:\n",
        "  while n % k == 0:\n",
        "    n //= k\n",
        "    count += 1\n",
        "  if n == 1:\n",
        "    break\n",
        "\n",
        "  n -= 1\n",
        "  count += 1\n",
        "\n",
        "print(count)"
      ],
      "metadata": {
        "colab": {
          "base_uri": "https://localhost:8080/"
        },
        "id": "GCab04GJxWql",
        "outputId": "1ff66b62-089b-4745-bff5-6571a1d8a8f3"
      },
      "execution_count": 50,
      "outputs": [
        {
          "output_type": "stream",
          "name": "stdout",
          "text": [
            "25 5\n",
            "2\n"
          ]
        }
      ]
    },
    {
      "cell_type": "code",
      "source": [
        "# N, K을 공백을 기준으로 구분하여 입력 받기\n",
        "n, k = map(int, input().split())\n",
        "result = 0\n",
        "\n",
        "// N이 K 이상이라면 K로 계속 나누기\n",
        "while n >= k:\n",
        "    # N이 K로 나누어 떨어지지 않는다면 N에서 1씩 빼기\n",
        "    while n % k != 0:\n",
        "        n -= 1\n",
        "        result += 1\n",
        "    # K로 나누기\n",
        "    n //= k\n",
        "    result += 1\n",
        "\n",
        "# 마지막으로 남은 수에 대하여 1씩 빼기\n",
        "while n > 1:\n",
        "    n -= 1\n",
        "    result += 1\n",
        "\n",
        "print(result)"
      ],
      "metadata": {
        "id": "jvFGBhnm2GKV"
      },
      "execution_count": null,
      "outputs": []
    },
    {
      "cell_type": "code",
      "source": [
        "# N, K공백을 기준으로 구분하여 입력 받기\n",
        "n, k = map(int, input().split())\n",
        "\n",
        "result = 0\n",
        "\n",
        "while True:\n",
        "    # N이 K로 나누어 떨어지는 수가 될 때까지만 1씩 빼기\n",
        "    target = (n // k) * k\n",
        "    result += (n - target)\n",
        "    n = target\n",
        "    # N이 K보다 작을 때 (더 이상 나눌 수 없을 때) 반복문 탈출\n",
        "    if n < k:\n",
        "        break\n",
        "    # K로 나누기\n",
        "    result += 1\n",
        "    n //= k\n",
        "\n",
        "# 마지막으로 남은 수에 대하여 1씩 빼기\n",
        "result += (n - 1)\n",
        "print(result)"
      ],
      "metadata": {
        "colab": {
          "base_uri": "https://localhost:8080/"
        },
        "id": "BEw17JmK2YeM",
        "outputId": "207e54c4-7e9c-4658-cadb-7263e4716289"
      },
      "execution_count": 51,
      "outputs": [
        {
          "output_type": "stream",
          "name": "stdout",
          "text": [
            "79 7\n",
            "8\n"
          ]
        }
      ]
    }
  ]
}